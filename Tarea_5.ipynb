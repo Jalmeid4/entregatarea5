{
  "nbformat": 4,
  "nbformat_minor": 0,
  "metadata": {
    "colab": {
      "provenance": [],
      "authorship_tag": "ABX9TyNolAmUv3exJfmNTs/7k6K2",
      "include_colab_link": true
    },
    "kernelspec": {
      "name": "python3",
      "display_name": "Python 3"
    },
    "language_info": {
      "name": "python"
    }
  },
  "cells": [
    {
      "cell_type": "markdown",
      "metadata": {
        "id": "view-in-github",
        "colab_type": "text"
      },
      "source": [
        "<a href=\"https://colab.research.google.com/github/Jalmeid4/entregatarea5/blob/main/Tarea_5.ipynb\" target=\"_parent\"><img src=\"https://colab.research.google.com/assets/colab-badge.svg\" alt=\"Open In Colab\"/></a>"
      ]
    },
    {
      "cell_type": "markdown",
      "source": [
        "Inciso 1)"
      ],
      "metadata": {
        "id": "1SRHSa1DmHW3"
      }
    },
    {
      "cell_type": "code",
      "execution_count": 32,
      "metadata": {
        "colab": {
          "base_uri": "https://localhost:8080/"
        },
        "id": "J2MgZ5vQlpoH",
        "outputId": "7af2b9e5-0f5b-459c-a8d8-7b1c43eec9aa"
      },
      "outputs": [
        {
          "output_type": "stream",
          "name": "stdout",
          "text": [
            "El valor de a es: 2.012041102148548\n",
            "El valor de b es: 0.5636791680804318\n",
            "El valor predicho para y cuando x=2.6 es: 2.4862074690489866\n"
          ]
        }
      ],
      "source": [
        "import numpy as np\n",
        "from sklearn.linear_model import LinearRegression\n",
        "\n",
        "# Datos proporcionados\n",
        "x = np.array([1, 2, 3, 5, 5])\n",
        "y = np.array([0.5, 2, 2.9, 3.5, 4])\n",
        "\n",
        "# Transformación logarítmica\n",
        "x_transformed = np.log(x)\n",
        "\n",
        "# Crear el modelo de regresión lineal\n",
        "model = LinearRegression()\n",
        "\n",
        "# Ajustar el modelo a los datos transformados\n",
        "model.fit(x_transformed.reshape(-1, 1), y)\n",
        "\n",
        "# Obtener los coeficientes de la regresión lineal\n",
        "a = model.coef_[0]\n",
        "b = model.intercept_\n",
        "\n",
        "print(\"El valor de a es:\", a)\n",
        "print(\"El valor de b es:\", b)\n",
        "\n",
        "# Predicción para x = 2.6\n",
        "x_pred = np.log(2.6)\n",
        "y_pred = a * x_pred + b\n",
        "\n",
        "print(\"El valor predicho para y cuando x=2.6 es:\", y_pred)"
      ]
    },
    {
      "cell_type": "markdown",
      "source": [
        "Inciso 3)"
      ],
      "metadata": {
        "id": "c3nzhymqptBZ"
      }
    },
    {
      "cell_type": "code",
      "source": [
        "import numpy as np\n",
        "from sklearn.linear_model import LinearRegression\n",
        "\n",
        "# Datos de temperatura (T) y capacidad calorífica (c)\n",
        "T = np.array([-50, -30, 0, 60, 90, 110]).reshape(-1, 1)\n",
        "c = np.array([1270, 1280, 1350, 1480, 1580, 1700])\n",
        "\n",
        "# Crear un modelo de regresión lineal\n",
        "modelo = LinearRegression()\n",
        "\n",
        "# Ajustar el modelo a los datos\n",
        "modelo.fit(T, c)\n",
        "\n",
        "# Obtener los coeficientes del modelo\n",
        "coeficientes = modelo.coef_\n",
        "intercepto = modelo.intercept_\n",
        "\n",
        "# Imprimir el modelo obtenido\n",
        "print(f\"El modelo es: c = {coeficientes[0]} * T + {intercepto}\")"
      ],
      "metadata": {
        "colab": {
          "base_uri": "https://localhost:8080/"
        },
        "id": "8suW4l45qCjU",
        "outputId": "ba5dc759-4053-4d97-f8db-43c4a27a8e6e"
      },
      "execution_count": 33,
      "outputs": [
        {
          "output_type": "stream",
          "name": "stdout",
          "text": [
            "El modelo es: c = 2.5825688073394497 * T + 1365.8562691131497\n"
          ]
        }
      ]
    }
  ]
}